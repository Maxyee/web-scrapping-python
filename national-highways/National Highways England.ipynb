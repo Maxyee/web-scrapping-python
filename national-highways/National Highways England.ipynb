{
 "cells": [
  {
   "cell_type": "markdown",
   "id": "99b087eb",
   "metadata": {},
   "source": [
    "# National Highways England"
   ]
  },
  {
   "cell_type": "markdown",
   "id": "b74fd06a",
   "metadata": {},
   "source": [
    "###Loading allthe library"
   ]
  },
  {
   "cell_type": "code",
   "execution_count": 2,
   "id": "f67ecb4a",
   "metadata": {},
   "outputs": [],
   "source": [
    "import requests\n",
    "import bs4\n",
    "from bs4 import BeautifulSoup"
   ]
  },
  {
   "cell_type": "markdown",
   "id": "608f87a8",
   "metadata": {},
   "source": [
    "Here we are going to analysis the National Highways England website to find out the North-West Road Projects."
   ]
  },
  {
   "cell_type": "markdown",
   "id": "3c0288aa",
   "metadata": {},
   "source": [
    "However, in the beginning, lets find out the name of all road projects"
   ]
  },
  {
   "cell_type": "code",
   "execution_count": 3,
   "id": "aa51c7bf",
   "metadata": {},
   "outputs": [],
   "source": [
    "north_west_project_url = 'https://nationalhighways.co.uk/our-work/north-west'"
   ]
  },
  {
   "cell_type": "markdown",
   "id": "29f1af0f",
   "metadata": {},
   "source": [
    "in this section we are going to define the user of our browser, for my case below header is my browser user agent"
   ]
  },
  {
   "cell_type": "code",
   "execution_count": 5,
   "id": "5b7f1af3",
   "metadata": {},
   "outputs": [],
   "source": [
    "headers = {\n",
    "    'User-Agent': 'Mozilla/5.0 (Macintosh; Intel Mac OS X 10_15_6) AppleWebKit/537.36 (KHTML, like Gecko) Chrome/101.0.4951.64 Safari/537.36'\n",
    "}"
   ]
  },
  {
   "cell_type": "markdown",
   "id": "5fe1c938",
   "metadata": {},
   "source": [
    "fetching data from the national highways website"
   ]
  },
  {
   "cell_type": "code",
   "execution_count": 7,
   "id": "fc3bf991",
   "metadata": {},
   "outputs": [],
   "source": [
    "page_data = requests.get(north_west_project_url, {'headers': headers})"
   ]
  },
  {
   "cell_type": "markdown",
   "id": "ad3a6469",
   "metadata": {},
   "source": [
    "into the `page_data` variable we have the html format data, so we need to parse the data with the help of BeautifulSoup library "
   ]
  },
  {
   "cell_type": "code",
   "execution_count": 9,
   "id": "b16cbd00",
   "metadata": {},
   "outputs": [],
   "source": [
    "soup_data = bs4.BeautifulSoup(page_data.text, 'html.parser')"
   ]
  },
  {
   "cell_type": "markdown",
   "id": "ec477c00",
   "metadata": {},
   "source": [
    "lets find all the `div` data from the national highway website where `class` name should be `road-projects-landing-active-projects-results`"
   ]
  },
  {
   "cell_type": "code",
   "execution_count": 13,
   "id": "f113eac7",
   "metadata": {},
   "outputs": [],
   "source": [
    "road_projects = soup_data.find_all('div', {'class': 'road-projects-landing-active-projects-results__item'})"
   ]
  },
  {
   "cell_type": "code",
   "execution_count": 14,
   "id": "f4457239",
   "metadata": {},
   "outputs": [
    {
     "data": {
      "text/plain": [
       "[<div class=\"road-projects-landing-active-projects-results__item full-list-items A5036\" data-title=\"A5036 Park Lane Footbridge\" style=\"display:none\">\n",
       " <span style=\"display:none;\">A</span>\n",
       " <a href=\"/our-work/north-west/a5036-park-lane-footbridge/\">A5036 Park Lane Footbridge</a>\n",
       " </div>,\n",
       " <div class=\"road-projects-landing-active-projects-results__item full-list-items A5036\" data-title=\"A5036 Port of Liverpool access\" style=\"display:none\">\n",
       " <span style=\"display:none;\">A</span>\n",
       " <a href=\"/our-work/north-west/a5036-port-of-liverpool-access/\">A5036 Port of Liverpool access</a>\n",
       " </div>,\n",
       " <div class=\"road-projects-landing-active-projects-results__item full-list-items\" data-title=\"A533 Expressway bridge replacement\" style=\"display:none\">\n",
       " <span style=\"display:none;\">A</span>\n",
       " <a href=\"/our-work/north-west/a533-expressway-bridge-replacement/\">A533 Expressway bridge replacement</a>\n",
       " </div>,\n",
       " <div class=\"road-projects-landing-active-projects-results__item full-list-items A57 A628\" data-title=\"A57 Link Roads\" style=\"display:none\">\n",
       " <span style=\"display:none;\">A</span>\n",
       " <a href=\"/our-work/north-west/a57-link-roads/\">A57 Link Roads</a>\n",
       " </div>,\n",
       " <div class=\"road-projects-landing-active-projects-results__item full-list-items A585\" data-title=\"A585 Norcross roundabout\" style=\"display:none\">\n",
       " <span style=\"display:none;\">A</span>\n",
       " <a href=\"/our-work/north-west/a585-norcross-roundabout/\">A585 Norcross roundabout</a>\n",
       " </div>,\n",
       " <div class=\"road-projects-landing-active-projects-results__item full-list-items A585\" data-title=\"A585 Windy Harbour to Skippool\" style=\"display:none\">\n",
       " <span style=\"display:none;\">A</span>\n",
       " <a href=\"/our-work/north-west/a585-windy-harbour-to-skippool/\">A585 Windy Harbour to Skippool</a>\n",
       " </div>,\n",
       " <div class=\"road-projects-landing-active-projects-results__item full-list-items A590\" data-title=\"A590 Cross-a-Moor junction improvement scheme\" style=\"display:none\">\n",
       " <span style=\"display:none;\">A</span>\n",
       " <a href=\"/our-work/north-west/a590-cross-a-moor/\">A590 Cross-a-Moor junction improvement scheme</a>\n",
       " </div>,\n",
       " <div class=\"road-projects-landing-active-projects-results__item full-list-items\" data-title=\"A590 maintenance schemes\" style=\"display:none\">\n",
       " <span style=\"display:none;\">A</span>\n",
       " <a href=\"/our-work/north-west/a590-maintenance-schemes/\">A590 maintenance schemes</a>\n",
       " </div>,\n",
       " <div class=\"road-projects-landing-active-projects-results__item full-list-items A66\" data-title=\"A66 maintenance schemes\" style=\"display:none\">\n",
       " <span style=\"display:none;\">A</span>\n",
       " <a href=\"/our-work/north-west/a66-maintenance-schemes/\">A66 maintenance schemes</a>\n",
       " </div>,\n",
       " <div class=\"road-projects-landing-active-projects-results__item full-list-items A66\" data-title=\"A66 Northern Trans-Pennine\" style=\"display:none\">\n",
       " <span style=\"display:none;\">A</span>\n",
       " <a href=\"/our-work/north-west/a66-northern-trans-pennine/\">A66 Northern Trans-Pennine</a>\n",
       " </div>,\n",
       " <div class=\"road-projects-landing-active-projects-results__item full-list-items M56\" data-title=\"M56 junction 6 to 8 smart motorway\" style=\"display:none\">\n",
       " <span style=\"display:none;\">M</span>\n",
       " <a href=\"/our-work/north-west/m56-junction-6-to-8-smart-motorway/\">M56 junction 6 to 8 smart motorway</a>\n",
       " </div>,\n",
       " <div class=\"road-projects-landing-active-projects-results__item full-list-items M6\" data-title=\"M6 junction 19\" style=\"display:none\">\n",
       " <span style=\"display:none;\">M</span>\n",
       " <a href=\"/our-work/north-west/m6-junction-19/\">M6 junction 19</a>\n",
       " </div>,\n",
       " <div class=\"road-projects-landing-active-projects-results__item full-list-items M6\" data-title=\"M6 junction 21a to 26 smart motorway\" style=\"display:none\">\n",
       " <span style=\"display:none;\">M</span>\n",
       " <a href=\"/our-work/north-west/m6-junction-21a-to-26-motorway-upgrade/\">M6 junction 21a to 26 smart motorway</a>\n",
       " </div>,\n",
       " <div class=\"road-projects-landing-active-projects-results__item full-list-items M60\" data-title=\"M60 junction 18 Simister Island Interchange\" style=\"display:none\">\n",
       " <span style=\"display:none;\">M</span>\n",
       " <a href=\"/our-work/north-west/m60-junction-18-simister-island-interchange/\">M60 junction 18 Simister Island Interchange</a>\n",
       " </div>,\n",
       " <div class=\"road-projects-landing-active-projects-results__item full-list-items M60\" data-title=\"M60 Palatine Road bridge pier repairs\" style=\"display:none\">\n",
       " <span style=\"display:none;\">M</span>\n",
       " <a href=\"/our-work/north-west/m60-palatine-road-bridge-pier-repairs/\">M60 Palatine Road bridge pier repairs</a>\n",
       " </div>,\n",
       " <div class=\"road-projects-landing-active-projects-results__item full-list-items M62\" data-title=\"M62 junction 20 to 25 smart motorway\" style=\"display:none\">\n",
       " <span style=\"display:none;\">M</span>\n",
       " <a href=\"/our-work/north-west/m62-junction-20-to-25-smart-motorway/\">M62 junction 20 to 25 smart motorway</a>\n",
       " </div>,\n",
       " <div class=\"road-projects-landing-active-projects-results__item full-list-items\" data-title=\"M67 St Anne’s Road bridge replacement project \" style=\"display:none\">\n",
       " <span style=\"display:none;\">M</span>\n",
       " <a href=\"/our-work/north-west/m67-st-anne-s-road-bridge-replacement-project/\">M67 St Anne’s Road bridge replacement project </a>\n",
       " </div>,\n",
       " <div class=\"road-projects-landing-active-projects-results__item full-list-items M60\" data-title=\"Manchester North West Quadrant\" style=\"display:none\">\n",
       " <span style=\"display:none;\">M</span>\n",
       " <a href=\"/our-work/north-west/manchester-north-west-quadrant/\">Manchester North West Quadrant</a>\n",
       " </div>,\n",
       " <div class=\"road-projects-landing-active-projects-results__item full-list-items A483 A500 A556 A590 M53 M6 M60 M62\" data-title=\"North West maintenance schemes\" style=\"display:none\">\n",
       " <span style=\"display:none;\">N</span>\n",
       " <a href=\"/our-work/north-west/north-west-maintenance-schemes/\">North West maintenance schemes</a>\n",
       " </div>,\n",
       " <div class=\"road-projects-landing-active-projects-results__item full-list-items M56 M6 M62\" data-title=\"North West smart motorways\" style=\"display:none\">\n",
       " <span style=\"display:none;\">N</span>\n",
       " <a href=\"/our-work/north-west/north-west-smart-motorways/\">North West smart motorways</a>\n",
       " </div>]"
      ]
     },
     "execution_count": 14,
     "metadata": {},
     "output_type": "execute_result"
    }
   ],
   "source": [
    "road_projects"
   ]
  },
  {
   "cell_type": "markdown",
   "id": "b93b0818",
   "metadata": {},
   "source": [
    "now we will loop through the `road_projects` variable to see every road projects data name."
   ]
  },
  {
   "cell_type": "code",
   "execution_count": 15,
   "id": "9e784708",
   "metadata": {},
   "outputs": [
    {
     "name": "stdout",
     "output_type": "stream",
     "text": [
      "A5036 Park Lane Footbridge\n",
      "A5036 Port of Liverpool access\n",
      "A533 Expressway bridge replacement\n",
      "A57 Link Roads\n",
      "A585 Norcross roundabout\n",
      "A585 Windy Harbour to Skippool\n",
      "A590 Cross-a-Moor junction improvement scheme\n",
      "A590 maintenance schemes\n",
      "A66 maintenance schemes\n",
      "A66 Northern Trans-Pennine\n",
      "M56 junction 6 to 8 smart motorway\n",
      "M6 junction 19\n",
      "M6 junction 21a to 26 smart motorway\n",
      "M60 junction 18 Simister Island Interchange\n",
      "M60 Palatine Road bridge pier repairs\n",
      "M62 junction 20 to 25 smart motorway\n",
      "M67 St Anne’s Road bridge replacement project \n",
      "Manchester North West Quadrant\n",
      "North West maintenance schemes\n",
      "North West smart motorways\n"
     ]
    }
   ],
   "source": [
    "for i in road_projects:\n",
    "    road = i.find('a').text\n",
    "    print(road)"
   ]
  },
  {
   "cell_type": "markdown",
   "id": "0e729c7b",
   "metadata": {},
   "source": [
    "Finally we found all the road project for North West England"
   ]
  },
  {
   "cell_type": "code",
   "execution_count": null,
   "id": "c8cdc6c7",
   "metadata": {},
   "outputs": [],
   "source": []
  }
 ],
 "metadata": {
  "kernelspec": {
   "display_name": "Python 3 (ipykernel)",
   "language": "python",
   "name": "python3"
  },
  "language_info": {
   "codemirror_mode": {
    "name": "ipython",
    "version": 3
   },
   "file_extension": ".py",
   "mimetype": "text/x-python",
   "name": "python",
   "nbconvert_exporter": "python",
   "pygments_lexer": "ipython3",
   "version": "3.8.2"
  }
 },
 "nbformat": 4,
 "nbformat_minor": 5
}
