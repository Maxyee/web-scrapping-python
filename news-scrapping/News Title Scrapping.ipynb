{
 "cells": [
  {
   "cell_type": "code",
   "execution_count": 3,
   "id": "59b8f4d0",
   "metadata": {},
   "outputs": [],
   "source": [
    "import requests\n",
    "import bs4\n",
    "from bs4 import BeautifulSoup"
   ]
  },
  {
   "cell_type": "code",
   "execution_count": 4,
   "id": "f7a76390",
   "metadata": {},
   "outputs": [],
   "source": [
    "url = 'https://economictimes.indiatimes.com/markets/stocks/news'"
   ]
  },
  {
   "cell_type": "code",
   "execution_count": 5,
   "id": "a1f79336",
   "metadata": {},
   "outputs": [],
   "source": [
    "headers = {\n",
    "    'User-Agent': 'Mozilla/5.0 (Macintosh; Intel Mac OS X 10_15_6) AppleWebKit/537.36 (KHTML, like Gecko) Chrome/101.0.4951.64 Safari/537.36'\n",
    "}"
   ]
  },
  {
   "cell_type": "code",
   "execution_count": 7,
   "id": "a5411a13",
   "metadata": {},
   "outputs": [],
   "source": [
    "r = requests.get(url, {'headers': headers})"
   ]
  },
  {
   "cell_type": "code",
   "execution_count": 8,
   "id": "3100cc89",
   "metadata": {},
   "outputs": [],
   "source": [
    "soup = bs4.BeautifulSoup(r.text, 'html.parser')"
   ]
  },
  {
   "cell_type": "code",
   "execution_count": 16,
   "id": "d5d962d5",
   "metadata": {},
   "outputs": [
    {
     "data": {
      "text/plain": [
       "'Tech View: Nifty50 forms Hammer candle; all eyes on follow-up action'"
      ]
     },
     "execution_count": 16,
     "metadata": {},
     "output_type": "execute_result"
    }
   ],
   "source": [
    "soup.find_all('div', {'class': 'eachStory'})[0].find_all('a')[-1].text"
   ]
  },
  {
   "cell_type": "markdown",
   "id": "c5ade9af",
   "metadata": {},
   "source": [
    "### Lets find out all the news titles"
   ]
  },
  {
   "cell_type": "code",
   "execution_count": 21,
   "id": "a0360735",
   "metadata": {},
   "outputs": [],
   "source": [
    "news_title = soup.find_all('div', {'class': 'eachStory'})"
   ]
  },
  {
   "cell_type": "code",
   "execution_count": 31,
   "id": "25f52e34",
   "metadata": {},
   "outputs": [
    {
     "name": "stdout",
     "output_type": "stream",
     "text": [
      "Tech View: Nifty50 forms Hammer candle; all eyes on follow-up action\n",
      "4 types of asset allocation for ensuring optimal level of risk & return\n",
      "Sensex rebounds 503 pts, Nifty tops 16,150; banking stocks shine\n",
      "Is Paradeep Phosphates headed for flat listing? What grey market is suggesting\n",
      "Sensex snaps 3-day losing run, ends 503 pts higher; Nifty tops 16,150 on F&O expiry\n",
      "Want to beat inflation Warren Buffett style? Here's where you should invest\n",
      "FPI equity sales since Oct now at Rs 2 lakh crore; here’s why experts feel the cycle hasn’t yet peaked\n",
      "Japanese stocks post foreign outflows for second week in a row\n",
      "Nikkei falls as chip-related stocks outweigh airline gains\n",
      "Oil stocks lift European shares but rate-hike worries limit gains\n",
      "Up 100% in 2 years! Can this specialty chemical stock continue its winning run?\n",
      "After rough two years, do calmer times await Indian Hotels' shareholders?\n",
      "These 6 stocks saw rise in profit margin for 4 quarters in a row. Worth a look?\n",
      "Post solid Q4 show, Street sees up to 60% upside in this healthcare stock. Time to buy?\n",
      "Can govt curbs on sugar export leave a bitter taste in investors' mouths?\n",
      "Torrent Pharma rises 9% despite loss in Q4; brokerages remain bullish\n"
     ]
    }
   ],
   "source": [
    "for i in news_title:\n",
    "    title = i.find('a').text\n",
    "    print(title)"
   ]
  },
  {
   "cell_type": "code",
   "execution_count": null,
   "id": "4b5c93a5",
   "metadata": {},
   "outputs": [],
   "source": []
  }
 ],
 "metadata": {
  "kernelspec": {
   "display_name": "Python 3 (ipykernel)",
   "language": "python",
   "name": "python3"
  },
  "language_info": {
   "codemirror_mode": {
    "name": "ipython",
    "version": 3
   },
   "file_extension": ".py",
   "mimetype": "text/x-python",
   "name": "python",
   "nbconvert_exporter": "python",
   "pygments_lexer": "ipython3",
   "version": "3.8.2"
  }
 },
 "nbformat": 4,
 "nbformat_minor": 5
}
